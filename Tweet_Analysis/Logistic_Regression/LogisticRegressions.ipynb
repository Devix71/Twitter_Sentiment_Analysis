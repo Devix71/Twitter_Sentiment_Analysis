{
 "metadata": {
  "language_info": {
   "name": "python",
   "version": "3.9.1",
   "mimetype": "text/x-python",
   "codemirror_mode": {
    "name": "ipython",
    "version": 3
   },
   "pygments_lexer": "ipython3",
   "nbconvert_exporter": "python",
   "file_extension": ".py"
  },
  "orig_nbformat": 2,
  "kernelspec": {
   "name": "python3",
   "display_name": "Python 3.9.5 64-bit (windows store)"
  },
  "metadata": {
   "interpreter": {
    "hash": "63fd5069d213b44bf678585dea6b12cceca9941eaf7f819626cde1f2670de90d"
   }
  },
  "interpreter": {
   "hash": "49da272d576a481f28606791bb204c0c4d8e794cfc29e01da16aef71fc635e48"
  }
 },
 "nbformat": 4,
 "nbformat_minor": 2,
 "cells": [
  {
   "cell_type": "markdown",
   "source": [
    "<h1> Logistic Regression <h1>\n",
    "<blockquote> Lastly, we shall see if Twitter sentiment is enough data in order to predict days with high stock volatility. This will be done by separating trading days into days with top 50% return rates and days with the bottom 50% return rates."
   ],
   "metadata": {}
  },
  {
   "cell_type": "markdown",
   "source": [
    "<h3>Now we shall create a logistic regression model using a 80/20 ratio between the training sample and the testing sample which have been selected randomly from the full dataset<h3>\r\n",
    "<blockquote> The independent variable x will be the Twitter sentiment varible adjusted by popularity and the dependent variable y will be the rate of return of the analysed stock quote. </blockquote><br> \r\n",
    "The model will be applied to the data by the Log_reg function, which takes as input data the independent variable dataset (x) and the dependent variable dataset (y)."
   ],
   "metadata": {}
  },
  {
   "cell_type": "code",
   "execution_count": 21,
   "source": [
    "from sklearn.model_selection import cross_val_score\r\n",
    "from sklearn.linear_model import LogisticRegression\r\n",
    "from sklearn.metrics import classification_report, confusion_matrix\r\n",
    "from sklearn.model_selection import train_test_split\r\n",
    "import statsmodels.api as sm\r\n",
    "import matplotlib.pyplot as plt\r\n",
    "def Log_reg(x,y):\r\n",
    "    X_train, X_test, y_train, y_test = train_test_split(x,y, test_size=0.2, random_state=42)\r\n",
    "    #print(X_train.info)\r\n",
    "    print(X_train.size)\r\n",
    "    model = LogisticRegression(solver='liblinear',C=10, random_state=1, class_weight='balanced', max_iter = 200).fit(X_train,y_train)\r\n",
    "    log_reg = sm.Logit(y_train, X_train).fit()\r\n",
    "    print(log_reg.summary())\r\n",
    "    print(\"Classes:\",model.classes_)\r\n",
    "    print(\"Model accuracy\",model.score(X_test, y_test))\r\n",
    "    cm = confusion_matrix(y_test, model.predict(X_test))\r\n",
    "    fig, ax = plt.subplots(figsize=(8, 8))\r\n",
    "    ax.imshow(cm)\r\n",
    "    ax.grid(False)\r\n",
    "    ax.xaxis.set(ticks=(0, 1), ticklabels=('Predicted 0s', 'Predicted 1s'))\r\n",
    "    ax.yaxis.set(ticks=(0, 1), ticklabels=('Actual 0s', 'Actual 1s'))\r\n",
    "    ax.set_ylim(1.5, -0.5)\r\n",
    "    for i in range(2):\r\n",
    "        for j in range(2):\r\n",
    "            ax.text(j, i, cm[i, j], ha='center', va='center', color='red')\r\n",
    "    plt.title('Confusion Matrix')        \r\n",
    "    plt.show()\r\n",
    "    print(classification_report(y_test, model.predict(X_test)))\r\n",
    "    '''scores = cross_val_score(model, X_train, y_train, cv=10)\r\n",
    "    print('Cross-Validation Accuracy Scores', scores)\r\n",
    "    scores = pd.Series(scores)\r\n",
    "    print(\"Average Accuracy: \",scores.mean())'''"
   ],
   "outputs": [],
   "metadata": {}
  },
  {
   "cell_type": "markdown",
   "source": [
    "<h3> Firstly, the data pertaining to the Nasdaq rate of return shall be analysed. We shall use the absolute returns in order to check if days with high volatility can be predicted using sentiment analysis. <br>The rate of return is compared to the median rate, days with a lower value are classified as low-volatility days (category 0) and days with high volatility are those with rates exceeding the median (category 1)"
   ],
   "metadata": {}
  },
  {
   "cell_type": "code",
   "execution_count": 22,
   "source": [
    "import pandas as pd\r\n",
    "import numpy as np\r\n",
    "\r\n",
    "path = \"Twitter_Sentiment_Analysis/Data/Dataset.xlsx\"\r\n",
    "df = pd.read_excel (path, sheet_name='Nasdaq_LR')\r\n",
    "df = df.dropna()\r\n",
    "x = np.array(df['S/PABS']).reshape(-1,1)\r\n",
    "y = np.array(df['ret_top_50_5_abs'])\r\n"
   ],
   "outputs": [],
   "metadata": {}
  },
  {
   "cell_type": "code",
   "execution_count": 23,
   "source": [
    "Log_reg(x,y)"
   ],
   "outputs": [
    {
     "output_type": "stream",
     "name": "stdout",
     "text": [
      "229\n",
      "Optimization terminated successfully.\n",
      "         Current function value: 0.689240\n",
      "         Iterations 4\n",
      "                           Logit Regression Results                           \n",
      "==============================================================================\n",
      "Dep. Variable:                      y   No. Observations:                  229\n",
      "Model:                          Logit   Df Residuals:                      228\n",
      "Method:                           MLE   Df Model:                            0\n",
      "Date:                Thu, 29 Jul 2021   Pseudo R-squ.:                0.005623\n",
      "Time:                        14:55:41   Log-Likelihood:                -157.84\n",
      "converged:                       True   LL-Null:                       -158.73\n",
      "Covariance Type:            nonrobust   LLR p-value:                       nan\n",
      "==============================================================================\n",
      "                 coef    std err          z      P>|z|      [0.025      0.975]\n",
      "------------------------------------------------------------------------------\n",
      "x1             0.0191      0.014      1.328      0.184      -0.009       0.047\n",
      "==============================================================================\n",
      "Classes: [0 1]\n",
      "Model accuracy 0.6896551724137931\n"
     ]
    },
    {
     "output_type": "display_data",
     "data": {
      "text/plain": [
       "<Figure size 576x576 with 1 Axes>"
      ],
      "image/png": "[encoded data removed]"
     },
     "metadata": {
      "needs_background": "light"
     }
    },
    {
     "output_type": "stream",
     "name": "stdout",
     "text": [
      "              precision    recall  f1-score   support\n",
      "\n",
      "           0       0.69      0.73      0.71        30\n",
      "           1       0.69      0.64      0.67        28\n",
      "\n",
      "    accuracy                           0.69        58\n",
      "   macro avg       0.69      0.69      0.69        58\n",
      "weighted avg       0.69      0.69      0.69        58\n",
      "\n"
     ]
    }
   ],
   "metadata": {}
  },
  {
   "cell_type": "markdown",
   "source": [
    "<h1> From the model's output, we can draw the following conclusions: </h1>\r\n",
    "<ul>\r\n",
    "<li>The model x1 variable (parameter coresponding to the independent variable) is not statistically significant for a 95% or higher confidence level according to the Z test <blockquote> This means that the model is practically unusable and that a sentiment-based model isn't a good fit for predicting Nasdaq's volatility</blockquote></li>\r\n",
    "<li>The model seems to have a higher f1-score for low volatility days compared to the high volatility ones, this means that the model is better suited to predicting days where there aren't big changes in return</li>\r\n",
    "<li> The model's general accuracy is 0.69, which means that on average the model manages to predict corectly 69% of the days based on the data given, this is confirmed by looking at the confusion matrix </li> \r\n",
    "</ul>"
   ],
   "metadata": {}
  },
  {
   "cell_type": "markdown",
   "source": [
    "<h3>NVDA<h3>\r\n",
    "In this case, the independent variable will be the Twitter sentiment adjusted by popularity and the dependent variable will be the days in relation to the median of the rate of return (for 4 days). \r\n",
    "<blockquote> Days which have a 4 day rate of return lower than the median will be classified as low profitability days (category 0) and days with a rate of return higher than the median will be high profitability days (category 1) </blockquote>"
   ],
   "metadata": {}
  },
  {
   "cell_type": "code",
   "execution_count": 24,
   "source": [
    "df = pd.read_excel (path, sheet_name='NVDA_LR')\r\n",
    "df = df.dropna()\r\n",
    "\r\n",
    "x = np.array(df['S/P']).reshape(-1,1)\r\n",
    "y = np.array(df['ret_top_50_4'])"
   ],
   "outputs": [],
   "metadata": {}
  },
  {
   "cell_type": "code",
   "execution_count": 25,
   "source": [
    "Log_reg(x,y)"
   ],
   "outputs": [
    {
     "output_type": "stream",
     "name": "stdout",
     "text": [
      "205\n",
      "Optimization terminated successfully.\n",
      "         Current function value: 0.654701\n",
      "         Iterations 5\n",
      "                           Logit Regression Results                           \n",
      "==============================================================================\n",
      "Dep. Variable:                      y   No. Observations:                  205\n",
      "Model:                          Logit   Df Residuals:                      204\n",
      "Method:                           MLE   Df Model:                            0\n",
      "Date:                Thu, 29 Jul 2021   Pseudo R-squ.:                 0.05415\n",
      "Time:                        14:55:41   Log-Likelihood:                -134.21\n",
      "converged:                       True   LL-Null:                       -141.90\n",
      "Covariance Type:            nonrobust   LLR p-value:                       nan\n",
      "==============================================================================\n",
      "                 coef    std err          z      P>|z|      [0.025      0.975]\n",
      "------------------------------------------------------------------------------\n",
      "x1             0.0249      0.007      3.648      0.000       0.012       0.038\n",
      "==============================================================================\n",
      "Classes: [0 1]\n",
      "Model accuracy 0.6346153846153846\n"
     ]
    },
    {
     "output_type": "display_data",
     "data": {
      "text/plain": [
       "<Figure size 576x576 with 1 Axes>"
      ],
      "image/png": "[encoded data removed]"
     },
     "metadata": {
      "needs_background": "light"
     }
    },
    {
     "output_type": "stream",
     "name": "stdout",
     "text": [
      "              precision    recall  f1-score   support\n",
      "\n",
      "           0       0.56      0.64      0.60        22\n",
      "           1       0.70      0.63      0.67        30\n",
      "\n",
      "    accuracy                           0.63        52\n",
      "   macro avg       0.63      0.63      0.63        52\n",
      "weighted avg       0.64      0.63      0.64        52\n",
      "\n"
     ]
    }
   ],
   "metadata": {}
  },
  {
   "cell_type": "markdown",
   "source": [
    "<h1> From the model's output, we can draw the following conclusions: </h1>\r\n",
    "<ul>\r\n",
    "<li>The model x1 variable (parameter coresponding to the independent variable) is statistically significant for a 95% or higher confidence level according to the Z test <blockquote> This means that the model is usable and that a sentiment-based model can be a good fit for predicting Nvidia's profitability</blockquote></li>\r\n",
    "<li>The model seems to have a higher f1-score for high profitability days compared to the low profitability ones, this means that the model is better suited to predicting days where higher rates of return happen</li>\r\n",
    "<li> The model's general accuracy is 0.63, which means that on average the model manages to predict corectly 63% of the days based on the data given, this is confirmed by looking at the confusion matrix </li> \r\n",
    "</ul>"
   ],
   "metadata": {}
  },
  {
   "cell_type": "markdown",
   "source": [
    "<h3>AMD</h3>\r\n",
    "In this case, the independent variable will be the Twitter sentiment adjusted by popularity and the dependent variable will be the days in relation to the median of the rate of return (for 10 days). \r\n",
    "<blockquote> Days which have a 10 day rate of return lower than the median will be classified as low profitability days (category 0) and days with a rate of return higher than the median will be high profitability days (category 1) </blockquote>"
   ],
   "metadata": {}
  },
  {
   "cell_type": "code",
   "execution_count": 26,
   "source": [
    "df = pd.read_excel (path, sheet_name='AMD_LR')\r\n",
    "df = df.dropna()\r\n",
    "x = np.array(df['S/P']).reshape(-1,1)\r\n",
    "y = np.array(df['ret_top_50_10'])"
   ],
   "outputs": [],
   "metadata": {}
  },
  {
   "cell_type": "code",
   "execution_count": 27,
   "source": [
    "Log_reg(x,y)"
   ],
   "outputs": [
    {
     "output_type": "stream",
     "name": "stdout",
     "text": [
      "184\n",
      "Optimization terminated successfully.\n",
      "         Current function value: 0.616510\n",
      "         Iterations 5\n",
      "                           Logit Regression Results                           \n",
      "==============================================================================\n",
      "Dep. Variable:                      y   No. Observations:                  184\n",
      "Model:                          Logit   Df Residuals:                      183\n",
      "Method:                           MLE   Df Model:                            0\n",
      "Date:                Thu, 29 Jul 2021   Pseudo R-squ.:                  0.1105\n",
      "Time:                        14:55:42   Log-Likelihood:                -113.44\n",
      "converged:                       True   LL-Null:                       -127.53\n",
      "Covariance Type:            nonrobust   LLR p-value:                       nan\n",
      "==============================================================================\n",
      "                 coef    std err          z      P>|z|      [0.025      0.975]\n",
      "------------------------------------------------------------------------------\n",
      "x1             0.0211      0.005      4.449      0.000       0.012       0.030\n",
      "==============================================================================\n",
      "Classes: [0. 1.]\n",
      "Model accuracy 0.7021276595744681\n"
     ]
    },
    {
     "output_type": "display_data",
     "data": {
      "text/plain": [
       "<Figure size 576x576 with 1 Axes>"
      ],
      "image/png": "[encoded data removed]"
     },
     "metadata": {
      "needs_background": "light"
     }
    },
    {
     "output_type": "stream",
     "name": "stdout",
     "text": [
      "              precision    recall  f1-score   support\n",
      "\n",
      "         0.0       0.66      0.83      0.73        23\n",
      "         1.0       0.78      0.58      0.67        24\n",
      "\n",
      "    accuracy                           0.70        47\n",
      "   macro avg       0.72      0.70      0.70        47\n",
      "weighted avg       0.72      0.70      0.70        47\n",
      "\n"
     ]
    }
   ],
   "metadata": {}
  },
  {
   "cell_type": "markdown",
   "source": [
    "<h1> From the model's output, we can draw the following conclusions: </h1>\r\n",
    "<ul>\r\n",
    "<li>The model x1 variable (parameter coresponding to the independent variable) is statistically significant for a 95% or higher confidence level according to the Z test <blockquote> This means that the model is usable and that a sentiment-based model can be a good fit for predicting AMD's profitability</blockquote></li>\r\n",
    "<li>The model seems to have a higher f1-score for low profitability days compared to the high profitability ones, this means that the model is better suited to predicting days where lower rates of return happen</li>\r\n",
    "<li> The model's general accuracy is 0.70, which means that on average the model manages to predict corectly 70% of the days based on the data given, this is confirmed by looking at the confusion matrix </li> \r\n",
    "</ul>"
   ],
   "metadata": {}
  },
  {
   "cell_type": "markdown",
   "source": [
    "<h3> TESLA </h3>\r\n",
    "In this case, the independent variable will be the Twitter sentiment adjusted by popularity and the dependent variable will be the days in relation to the median of the rate of return (for 5 days). \r\n",
    "<blockquote> Days which have a 5 day rate of return lower than the median will be classified as low profitability days (category 0) and days with a rate of return higher than the median will be high profitability days (category 1) </blockquote>"
   ],
   "metadata": {}
  },
  {
   "cell_type": "code",
   "execution_count": 28,
   "source": [
    "path = \"Twitter_Sentiment_Analysis/Data/Dataset.xlsx\"\r\n",
    "df = pd.read_excel (path, sheet_name='TSLA_LR')\r\n",
    "df = df.dropna()\r\n",
    "\r\n",
    "x =np.array(df['S/P']).reshape(-1,1)\r\n",
    "\r\n",
    "y = np.ravel(np.array(df['ret_top_50_5']).reshape(-1,1))"
   ],
   "outputs": [],
   "metadata": {}
  },
  {
   "cell_type": "code",
   "execution_count": 29,
   "source": [
    "Log_reg(x,y)"
   ],
   "outputs": [
    {
     "output_type": "stream",
     "name": "stdout",
     "text": [
      "207\n",
      "Optimization terminated successfully.\n",
      "         Current function value: 0.599170\n",
      "         Iterations 5\n",
      "                           Logit Regression Results                           \n",
      "==============================================================================\n",
      "Dep. Variable:                      y   No. Observations:                  207\n",
      "Model:                          Logit   Df Residuals:                      206\n",
      "Method:                           MLE   Df Model:                            0\n",
      "Date:                Thu, 29 Jul 2021   Pseudo R-squ.:                 0.09881\n",
      "Time:                        14:55:42   Log-Likelihood:                -124.03\n",
      "converged:                       True   LL-Null:                       -137.63\n",
      "Covariance Type:            nonrobust   LLR p-value:                       nan\n",
      "==============================================================================\n",
      "                 coef    std err          z      P>|z|      [0.025      0.975]\n",
      "------------------------------------------------------------------------------\n",
      "x1             0.0020      0.000      5.196      0.000       0.001       0.003\n",
      "==============================================================================\n",
      "Classes: [0. 1.]\n",
      "Model accuracy 0.6346153846153846\n"
     ]
    },
    {
     "output_type": "display_data",
     "data": {
      "text/plain": [
       "<Figure size 576x576 with 1 Axes>"
      ],
      "image/png": "[encoded data removed]"
     },
     "metadata": {
      "needs_background": "light"
     }
    },
    {
     "output_type": "stream",
     "name": "stdout",
     "text": [
      "              precision    recall  f1-score   support\n",
      "\n",
      "         0.0       0.50      0.84      0.63        19\n",
      "         1.0       0.85      0.52      0.64        33\n",
      "\n",
      "    accuracy                           0.63        52\n",
      "   macro avg       0.68      0.68      0.63        52\n",
      "weighted avg       0.72      0.63      0.64        52\n",
      "\n"
     ]
    }
   ],
   "metadata": {}
  },
  {
   "cell_type": "markdown",
   "source": [
    "<h1> From the model's output, we can draw the following conclusions: </h1>\r\n",
    "<ul>\r\n",
    "<li>The model x1 variable (parameter coresponding to the independent variable) is statistically significant for a 95% or higher confidence level according to the Z test <blockquote> This means that the model is usable and that a sentiment-based model can be a good fit for predicting TSLA's profitability</blockquote></li>\r\n",
    "<li>The model seems to have a slightly higher f1-score for high profitability days compared to the low profitability ones, this means that the model is about as well suited for predicting high profitability days as well as low profitability days</li>\r\n",
    "<li> The model's general accuracy is 0.63, which means that on average the model manages to predict corectly 63% of the days based on the data given, this is confirmed by looking at the confusion matrix </li> \r\n",
    "</ul>"
   ],
   "metadata": {}
  },
  {
   "cell_type": "markdown",
   "source": [
    "<h3> Tesla predicted by Tesla-Nvidia sentiment </h3>\r\n",
    "In this case, the independent variable will be the Twitter sentiment adjusted by popularity for Nvdia and Tesla, and the dependent variable will be the days in relation to the median of the rate of return (for 5 days) for Tesla. \r\n",
    "<blockquote> Days which have a 5 day rate of return lower than the median will be classified as low profitability days (category 0) and days with a rate of return higher than the median will be high profitability days (category 1) </blockquote> <br>\r\n",
    "Tesla and Nvidia were chosen as Tesla is an important client of Nvidia, Nvidia manufacturing the chips needed for training and using Tesla's advanced assisted driving AI"
   ],
   "metadata": {}
  },
  {
   "cell_type": "code",
   "execution_count": 30,
   "source": [
    "\r\n",
    "path = \"Twitter_Sentiment_Analysis/Data/Dataset.xlsx\"\r\n",
    "df = pd.read_excel (path, sheet_name='AMD-NVDA-TSLA_LR')\r\n",
    "df=df[['S/PAMD','S/PNVDA','S/PTSLA','ret_top_50_5_TSLA']].dropna()\r\n",
    "\r\n",
    "x = df[['S/PNVDA','S/PTSLA']]\r\n",
    "\r\n",
    "y = np.array(df['ret_top_50_5_TSLA'])"
   ],
   "outputs": [],
   "metadata": {}
  },
  {
   "cell_type": "code",
   "execution_count": 31,
   "source": [
    "Log_reg(x,y)"
   ],
   "outputs": [
    {
     "output_type": "stream",
     "name": "stdout",
     "text": [
      "376\n",
      "Optimization terminated successfully.\n",
      "         Current function value: 0.566816\n",
      "         Iterations 6\n",
      "                           Logit Regression Results                           \n",
      "==============================================================================\n",
      "Dep. Variable:                      y   No. Observations:                  188\n",
      "Model:                          Logit   Df Residuals:                      186\n",
      "Method:                           MLE   Df Model:                            1\n",
      "Date:                Thu, 29 Jul 2021   Pseudo R-squ.:                  0.1647\n",
      "Time:                        14:55:42   Log-Likelihood:                -106.56\n",
      "converged:                       True   LL-Null:                       -127.57\n",
      "Covariance Type:            nonrobust   LLR p-value:                 9.001e-11\n",
      "==============================================================================\n",
      "                 coef    std err          z      P>|z|      [0.025      0.975]\n",
      "------------------------------------------------------------------------------\n",
      "S/PNVDA        0.0138      0.007      2.032      0.042       0.000       0.027\n",
      "S/PTSLA        0.0024      0.000      5.339      0.000       0.001       0.003\n",
      "==============================================================================\n",
      "Classes: [0. 1.]\n",
      "Model accuracy 0.7083333333333334\n"
     ]
    },
    {
     "output_type": "display_data",
     "data": {
      "text/plain": [
       "<Figure size 576x576 with 1 Axes>"
      ],
      "image/png": "[encoded data removed]"
     },
     "metadata": {
      "needs_background": "light"
     }
    },
    {
     "output_type": "stream",
     "name": "stdout",
     "text": [
      "              precision    recall  f1-score   support\n",
      "\n",
      "         0.0       0.50      0.93      0.65        14\n",
      "         1.0       0.95      0.62      0.75        34\n",
      "\n",
      "    accuracy                           0.71        48\n",
      "   macro avg       0.73      0.77      0.70        48\n",
      "weighted avg       0.82      0.71      0.72        48\n",
      "\n"
     ]
    }
   ],
   "metadata": {}
  },
  {
   "cell_type": "markdown",
   "source": [
    "<h1> From the model's output, we can draw the following conclusions: </h1>\r\n",
    "<ul>\r\n",
    "<li>The model x variables (parameters coresponding to the independent variable) are statistically significant for a 95% or higher confidence level according to the Z test <blockquote> This means that the model is usable and that a sentiment-based model can be a good fit for predicting TSLA's profitability</blockquote></li>\r\n",
    "<li>The model seems to have a  higher f1-score for high profitability days compared to the low profitability ones, this means that the model is better suited for predicting high profitability days</li>\r\n",
    "<li> The model's general accuracy is 0.71, which means that on average the model manages to predict corectly 71% of the days based on the data given, this is confirmed by looking at the confusion matrix </li> \r\n",
    "</ul>"
   ],
   "metadata": {}
  },
  {
   "cell_type": "markdown",
   "source": [
    "<h3> Nvidia predicted by AMD, Tesla and Nvidia sentiment </h3>\r\n",
    "In this case, the independent variable will be the Twitter sentiment adjusted by popularity for AMD, Nvdia and Tesla, and the dependent variable will be the days in relation to the median of the rate of return (for 5 days) for Nvidia. \r\n",
    "<blockquote> Days which have a 5 day rate of return lower than the median will be classified as low profitability days (category 0) and days with a rate of return higher than the median will be high profitability days (category 1) </blockquote> <br>\r\n",
    "Tesla and AMD were chosen as Nvidia is the main competitor of AMD and that Tesla has a series of contracts with Nvidia"
   ],
   "metadata": {}
  },
  {
   "cell_type": "code",
   "execution_count": 32,
   "source": [
    "\r\n",
    "path = \"Twitter_Sentiment_Analysis/Data/Dataset.xlsx\"\r\n",
    "df = pd.read_excel (path, sheet_name='AMD-NVDA_RL')\r\n",
    "df=df[['S/PAMD','S/PNVDA','S/PTSLA','rand_top_50_4_NVDA']].dropna()\r\n",
    "\r\n",
    "x = df[['S/PNVDA','S/PTSLA','S/PAMD']]\r\n",
    "\r\n",
    "y = np.array(df['rand_top_50_4_NVDA'])"
   ],
   "outputs": [],
   "metadata": {}
  },
  {
   "cell_type": "code",
   "execution_count": 33,
   "source": [
    "Log_reg(x,y)"
   ],
   "outputs": [
    {
     "output_type": "stream",
     "name": "stdout",
     "text": [
      "570\n",
      "Optimization terminated successfully.\n",
      "         Current function value: 0.641007\n",
      "         Iterations 5\n",
      "                           Logit Regression Results                           \n",
      "==============================================================================\n",
      "Dep. Variable:                      y   No. Observations:                  190\n",
      "Model:                          Logit   Df Residuals:                      187\n",
      "Method:                           MLE   Df Model:                            2\n",
      "Date:                Thu, 29 Jul 2021   Pseudo R-squ.:                 0.07493\n",
      "Time:                        14:55:43   Log-Likelihood:                -121.79\n",
      "converged:                       True   LL-Null:                       -131.66\n",
      "Covariance Type:            nonrobust   LLR p-value:                 5.198e-05\n",
      "==============================================================================\n",
      "                 coef    std err          z      P>|z|      [0.025      0.975]\n",
      "------------------------------------------------------------------------------\n",
      "S/PNVDA        0.0219      0.007      3.297      0.001       0.009       0.035\n",
      "S/PTSLA        0.0005      0.000      1.713      0.087   -7.39e-05       0.001\n",
      "S/PAMD         0.0061      0.004      1.631      0.103      -0.001       0.014\n",
      "==============================================================================\n",
      "Classes: [0 1]\n",
      "Model accuracy 0.7083333333333334\n"
     ]
    },
    {
     "output_type": "display_data",
     "data": {
      "text/plain": [
       "<Figure size 576x576 with 1 Axes>"
      ],
      "image/png": "[encoded data removed]"
     },
     "metadata": {
      "needs_background": "light"
     }
    },
    {
     "output_type": "stream",
     "name": "stdout",
     "text": [
      "              precision    recall  f1-score   support\n",
      "\n",
      "           0       0.83      0.66      0.73        29\n",
      "           1       0.60      0.79      0.68        19\n",
      "\n",
      "    accuracy                           0.71        48\n",
      "   macro avg       0.71      0.72      0.71        48\n",
      "weighted avg       0.74      0.71      0.71        48\n",
      "\n"
     ]
    }
   ],
   "metadata": {}
  },
  {
   "cell_type": "markdown",
   "source": [
    "<h1> From the model's output, we can draw the following conclusions: </h1>\r\n",
    "<ul>\r\n",
    "<li>The only x variable which is statistically significant for a 95% or higher confidence level according to the Z test is the one associated to Nvidia's Twitter sentiment <blockquote> This means that the model is usable and that a sentiment-based model can be a good fit for predicting Nvidia's profitability, but that the other company's sentiments may be redundant</blockquote></li>\r\n",
    "<li>The model seems to have a  higher f1-score for low profitability days compared to the high profitability ones, this means that the model is better suited for predicting low profitability days</li>\r\n",
    "<li> The model's general accuracy is 0.71, which means that on average the model manages to predict corectly 71% of the days based on the data given, this is confirmed by looking at the confusion matrix </li> \r\n",
    "</ul>"
   ],
   "metadata": {}
  },
  {
   "cell_type": "code",
   "execution_count": null,
   "source": [],
   "outputs": [],
   "metadata": {}
  }
 ]
}